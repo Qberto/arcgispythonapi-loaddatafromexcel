{
 "cells": [
  {
   "cell_type": "markdown",
   "metadata": {},
   "source": [
    "# Test: Daily Load of Records from Excel Sheet into Feature Layer, adding Geometry"
   ]
  },
  {
   "cell_type": "markdown",
   "metadata": {},
   "source": [
    "# Workflow Description\n",
    "\n",
    "1. Open excel file to a designated sheet\n",
    "\n",
    "2. Determine today's date, and retrieve records from today's date into a spatial dataframe\n",
    "\n",
    "3. For each record, retrieve the zip code, and get geometry from a reference shapefile or publicly available zip code layer\n",
    "\n",
    "4. Use the spatial dataframe of new records with geometry in an update (add) operation on a specified target layer"
   ]
  },
  {
   "cell_type": "markdown",
   "metadata": {},
   "source": [
    "Import needed modules"
   ]
  },
  {
   "cell_type": "code",
   "execution_count": null,
   "metadata": {
    "collapsed": true
   },
   "outputs": [],
   "source": [
    "import arcgis\n",
    "import pandas as pd\n",
    "from datetime import datetime"
   ]
  },
  {
   "cell_type": "markdown",
   "metadata": {},
   "source": [
    "# User: Please enter parameters related to the input excel"
   ]
  },
  {
   "cell_type": "code",
   "execution_count": null,
   "metadata": {
    "collapsed": true
   },
   "outputs": [],
   "source": [
    "excel_path = r\"\"\n",
    "sheet_name = \"Master\" \n",
    "excel_date_field_name = \"Date\"\n",
    "excel_zip_field_name = \"ZIP\"\n",
    "excel_issue_field_name = \"Issue\"\n",
    "excel_count_field_name = \"Count\""
   ]
  },
  {
   "cell_type": "markdown",
   "metadata": {},
   "source": [
    "# User: Please enter parameters related to target ArcGIS Online"
   ]
  },
  {
   "cell_type": "code",
   "execution_count": null,
   "metadata": {
    "collapsed": true
   },
   "outputs": [],
   "source": [
    "target_layer_agol_org_url = \"\"\n",
    "target_layer_agol_org_username = \"\"\n",
    "target_layer_name = \"\""
   ]
  },
  {
   "cell_type": "markdown",
   "metadata": {},
   "source": [
    "Set reference to geometry data source"
   ]
  },
  {
   "cell_type": "code",
   "execution_count": null,
   "metadata": {
    "collapsed": true
   },
   "outputs": [],
   "source": [
    "reference_geometry_shapefile = r\"ZipRef\\zip_poly.shp\""
   ]
  },
  {
   "cell_type": "markdown",
   "metadata": {},
   "source": [
    "Authenticate with the GIS that the target layer resides in"
   ]
  },
  {
   "cell_type": "code",
   "execution_count": null,
   "metadata": {},
   "outputs": [],
   "source": [
    "gis = arcgis.gis.GIS(target_layer_agol_org_url, target_layer_agol_org_username)"
   ]
  },
  {
   "cell_type": "markdown",
   "metadata": {},
   "source": [
    "Instantiate connection to the target layer"
   ]
  },
  {
   "cell_type": "code",
   "execution_count": null,
   "metadata": {},
   "outputs": [],
   "source": [
    "target_item = gis.content.search(target_layer_name, \"feature service\")[0]"
   ]
  },
  {
   "cell_type": "markdown",
   "metadata": {},
   "source": [
    "# 1. Open excel file to a designated sheet"
   ]
  },
  {
   "cell_type": "code",
   "execution_count": null,
   "metadata": {
    "scrolled": true
   },
   "outputs": [],
   "source": [
    "input_df = pd.read_excel(excel_path, sheetname=sheet_name)"
   ]
  },
  {
   "cell_type": "markdown",
   "metadata": {},
   "source": [
    "# 2. Determine today's date, and retrieve records from today's date into a spatial dataframe"
   ]
  },
  {
   "cell_type": "code",
   "execution_count": null,
   "metadata": {},
   "outputs": [],
   "source": [
    "today_string = datetime.today().strftime('%m/%d/%Y')"
   ]
  },
  {
   "cell_type": "code",
   "execution_count": null,
   "metadata": {},
   "outputs": [],
   "source": [
    "today_df = input_df.loc[input_df['Date'] == today_string]"
   ]
  },
  {
   "cell_type": "markdown",
   "metadata": {},
   "source": [
    "Cast the zips from the input to string"
   ]
  },
  {
   "cell_type": "code",
   "execution_count": null,
   "metadata": {},
   "outputs": [],
   "source": [
    "today_df[excel_zip_field_name] = today_df[excel_zip_field_name].astype(str)"
   ]
  },
  {
   "cell_type": "markdown",
   "metadata": {},
   "source": [
    "# 3. For each record, retrieve the zip code, and get geometry from a reference shapefile or publicly available zip code layer"
   ]
  },
  {
   "cell_type": "markdown",
   "metadata": {},
   "source": [
    "Bring our reference shapefile of zip codes with geometry into a spatial dataframe"
   ]
  },
  {
   "cell_type": "code",
   "execution_count": null,
   "metadata": {},
   "outputs": [],
   "source": [
    "sp_df = arcgis.features.SpatialDataFrame.from_featureclass(reference_geometry_shapefile)"
   ]
  },
  {
   "cell_type": "markdown",
   "metadata": {},
   "source": [
    "Retrieve today's zip codes into a list of strings to allow us to query the reference zip code spatial dataframe"
   ]
  },
  {
   "cell_type": "code",
   "execution_count": null,
   "metadata": {
    "scrolled": true
   },
   "outputs": [],
   "source": [
    "today_zips_list = today_df[excel_zip_field_name].tolist()"
   ]
  },
  {
   "cell_type": "markdown",
   "metadata": {},
   "source": [
    "Create a new query of zips with geometry from today's zips"
   ]
  },
  {
   "cell_type": "code",
   "execution_count": null,
   "metadata": {},
   "outputs": [],
   "source": [
    "today_sp_df =  sp_df[sp_df.ZIP_CODE.isin(today_zips_list)]"
   ]
  },
  {
   "cell_type": "markdown",
   "metadata": {},
   "source": [
    "Format the columns and join the today_df"
   ]
  },
  {
   "cell_type": "code",
   "execution_count": null,
   "metadata": {},
   "outputs": [],
   "source": [
    "target_sp_df = pd.merge(left=today_df, right=today_sp_df, left_on=excel_zip_field_name, right_on=\"ZIP_CODE\")"
   ]
  },
  {
   "cell_type": "markdown",
   "metadata": {},
   "source": [
    "Create order of needed columns"
   ]
  },
  {
   "cell_type": "code",
   "execution_count": null,
   "metadata": {},
   "outputs": [],
   "source": [
    "columns = ['SHAPE', excel_zip_field_name, excel_date_field_name, excel_issue_field_name, excel_count_field_name]"
   ]
  },
  {
   "cell_type": "code",
   "execution_count": null,
   "metadata": {},
   "outputs": [],
   "source": [
    "target_sp_df = target_sp_df[columns]"
   ]
  },
  {
   "cell_type": "markdown",
   "metadata": {},
   "source": [
    "Set an attribute field name map since Maps for Office gives strange column names to the service behind the scenes"
   ]
  },
  {
   "cell_type": "code",
   "execution_count": null,
   "metadata": {
    "collapsed": true
   },
   "outputs": [],
   "source": [
    "attribute_map = {'f1':'ZIP', 'f2':'Date', 'f3':'Issue', 'f4': 'Count'}"
   ]
  },
  {
   "cell_type": "markdown",
   "metadata": {},
   "source": [
    "# 4. Use the spatial dataframe of new records with geometry in an update (add) operation on a specified target layer"
   ]
  },
  {
   "cell_type": "code",
   "execution_count": null,
   "metadata": {
    "collapsed": true
   },
   "outputs": [],
   "source": [
    "for index, row in df.iterrows():\n",
    "    print index, row['some column']"
   ]
  },
  {
   "cell_type": "code",
   "execution_count": null,
   "metadata": {
    "collapsed": true
   },
   "outputs": [],
   "source": [
    "template_attribute_dict = {\"f1\": \"99999\", \n",
    "                           \"f2\": \"01/01/1900\", \n",
    "                           \"f3\": \"None\", \n",
    "                           \"f4\": \"99\"\n",
    "                          }"
   ]
  },
  {
   "cell_type": "code",
   "execution_count": null,
   "metadata": {},
   "outputs": [],
   "source": [
    "# Build empty list that will contain the feature objects to send with the update request\n",
    "features_to_add = []\n",
    "\n",
    "# Iterate on each row of the input delta records from today\n",
    "for index, row in target_sp_df.iterrows():\n",
    "    # Retrieve geometry and attributes\n",
    "    feat_geometry = row['SHAPE']\n",
    "    feat_attributes = template_attribute_dict\n",
    "    feat_attributes['f1'] = row[attribute_map['f1']]\n",
    "    feat_attributes['f2'] = row[attribute_map['f2']]\n",
    "    feat_attributes['f3'] = row[attribute_map['f3']]\n",
    "    feat_attributes['f4'] = row[attribute_map['f4']]\n",
    "    print(\"\\nUpdating feature attributes:\")\n",
    "    print(feat_attributes)\n",
    "    \n",
    "    # Project geometry \n",
    "    projected_feat_geometry = {\n",
    "    \"rings\" : feat_geometry['rings'],\n",
    "    \"spatialReference\" : {\"wkid\" : 4326}\n",
    "    }\n",
    "    projected_feat_polygon = arcgis.geometry.Polygon(projected_feat_geometry)\n",
    "    print(\"Geometry valid: \"+str(projected_feat_polygon.is_valid))\n",
    "    # Build feature object\n",
    "    feature_to_add = arcgis.features.Feature(geometry=projected_feat_polygon, attributes=feat_attributes)\n",
    "    # Append feature object to list of features to add\n",
    "    features_to_add.append(feature_to_add)"
   ]
  },
  {
   "cell_type": "code",
   "execution_count": null,
   "metadata": {},
   "outputs": [],
   "source": [
    "target_lyr = target_item.layers[0]\n",
    "target_fset = target_lyr.query()\n",
    "original_record_count = target_fset.df.shape[0]\n",
    "print(\"original record count: \" + str(original_record_count))"
   ]
  },
  {
   "cell_type": "code",
   "execution_count": null,
   "metadata": {},
   "outputs": [],
   "source": [
    "target_lyr.edit_features(adds = features_to_add)"
   ]
  },
  {
   "cell_type": "code",
   "execution_count": null,
   "metadata": {},
   "outputs": [],
   "source": [
    "target_fset = target_lyr.query()\n",
    "new_record_count = target_fset.df.shape[0]\n",
    "print(\"New record count: \" + str(new_record_count))\n",
    "print(str(new_record_count - original_record_count) + \" features successfully added.\")"
   ]
  }
 ],
 "metadata": {
  "kernelspec": {
   "display_name": "Python 3",
   "language": "python",
   "name": "python3"
  },
  "language_info": {
   "codemirror_mode": {
    "name": "ipython",
    "version": 3
   },
   "file_extension": ".py",
   "mimetype": "text/x-python",
   "name": "python",
   "nbconvert_exporter": "python",
   "pygments_lexer": "ipython3",
   "version": "3.6.1"
  }
 },
 "nbformat": 4,
 "nbformat_minor": 2
}
